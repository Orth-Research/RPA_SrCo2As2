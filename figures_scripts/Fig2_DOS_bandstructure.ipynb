{
 "cells": [
  {
   "cell_type": "code",
   "execution_count": 1,
   "metadata": {},
   "outputs": [],
   "source": [
    "import numpy as np\n",
    "import scipy.linalg as la\n",
    "import matplotlib.pyplot as plt\n",
    "import time\n",
    "\n",
    "orb = 16 #number of bands/orbitals"
   ]
  },
  {
   "cell_type": "code",
   "execution_count": 2,
   "metadata": {},
   "outputs": [
    {
     "name": "stdout",
     "output_type": "stream",
     "text": [
      "The Wannier functions are defined on 1116416 points in space+orbitals.\n"
     ]
    }
   ],
   "source": [
    "#Importing Wannier90 Hamiltonian\n",
    "\n",
    "path = \"C:/Users/amnedic/Documents/GitHub/RPA_SrCo2As2/Wannier90/SrCo2As2/\"\n",
    "latHam_data = np.genfromtxt(path+'ham_wannier90_hr-SrCo2As2.dat')\n",
    "L = len(latHam_data)\n",
    "print('The Wannier functions are defined on', L, 'points in space+orbitals.')\n",
    "\n",
    "#components of the position vectors in terms of the lattice vectors\n",
    "list_r = []\n",
    "#band indices n and m\n",
    "list_nm = []\n",
    "#hopping parameter in real space t2\n",
    "list_re_im = []\n",
    "for i in range(0, L):\n",
    "    list_r.append([latHam_data[[i]][0][0], latHam_data[[i]][0][1], latHam_data[[i]][0][2]])\n",
    "    list_nm.append([int(latHam_data[[i]][0][3]), int(latHam_data[[i]][0][4])])\n",
    "    list_re_im.append(latHam_data[[i]][0][5] + 1j*latHam_data[[i]][0][6])\n",
    "    \n",
    "weights_data = np.genfromtxt(path+'nrpts_wannier90_hr-SrCo2As2.dat', delimiter='\\n', dtype=str) #importing weights from Wannier90 output\n",
    "weights_data_str = [str(t).split() for t in weights_data] \n",
    "c_weights_list = [1/int(item) for sublist in weights_data_str for item in sublist]  #c_weights_list is a flat list containing 1/weights\n",
    "w = len(c_weights_list)"
   ]
  },
  {
   "cell_type": "code",
   "execution_count": 3,
   "metadata": {},
   "outputs": [],
   "source": [
    "#Energy eigenvalues and eigenvectors\n",
    "\n",
    "def energy(k_biglist):\n",
    "    eiglist = []\n",
    "    eigvectors = []\n",
    "    Ham = np.zeros([16, 16, len(k_biglist)], dtype=complex);\n",
    "        \n",
    "    for i in range(w):\n",
    "        c_exp = np.exp(1j*(np.multiply(k_biglist, list_r[256*i]).sum(1))) #exponent with dot product x*kx + y*ky + z*kz which we will use for FT\n",
    "        for o in range(256):\n",
    "            row = 256*i+o\n",
    "            n = list_nm[row][0]-1;\n",
    "            m = list_nm[row][1]-1;\n",
    "            #calculating Hamiltonian in momentum space\n",
    "            Ham[n][m] += c_weights_list[i]*list_re_im[row]*c_exp;\n",
    "\n",
    "    #diagonalizing Hamiltonian for each k-value from our list separately                    \n",
    "    for p in range(len(k_biglist)):\n",
    "        eig, eigv = la.eigh(Ham[:,:,p])\n",
    "        eiglist.append(np.real(eig))\n",
    "        eigvectors.append(eigv)\n",
    "        \n",
    "    return (eiglist, eigvectors)"
   ]
  },
  {
   "cell_type": "code",
   "execution_count": 4,
   "metadata": {},
   "outputs": [],
   "source": [
    "#k_biglist - simple\n",
    "\n",
    "#N gives discretization for each of kx, ky, kz directions\n",
    "N = 2000\n",
    "k_val = np.arange(0, np.pi, np.pi/N);\n",
    "k_biglist = []\n",
    "#GX\n",
    "for t in range(N):\n",
    "    k_biglist.append([-k_val[t], k_val[t], 0])\n",
    "#XP\n",
    "for t in range(N):\n",
    "    k_biglist.append([-np.pi+k_val[t]/2, np.pi+k_val[t]/2, -k_val[t]/2])\n",
    "#PN\n",
    "for t in range(N):\n",
    "    k_biglist.append([-np.pi/2+k_val[t]/2, 3*np.pi/2-k_val[t]/2, -np.pi/2+k_val[t]/2])\n",
    "#NG\n",
    "for t in range(N):\n",
    "    k_biglist.append([0, np.pi-k_val[t], 0])\n",
    "#GM\n",
    "for t in range(N):\n",
    "    k_biglist.append([k_val[t], k_val[t], -k_val[t]])"
   ]
  },
  {
   "cell_type": "code",
   "execution_count": 5,
   "metadata": {},
   "outputs": [
    {
     "name": "stdout",
     "output_type": "stream",
     "text": [
      "0.892 minutes for calculation.\n"
     ]
    }
   ],
   "source": [
    "start_time = time.time();\n",
    "energylist = energy(k_biglist)\n",
    "print(round((time.time()-start_time)/60, 3), 'minutes for calculation.');"
   ]
  },
  {
   "cell_type": "code",
   "execution_count": 6,
   "metadata": {},
   "outputs": [],
   "source": [
    "#enenergies are 0th output of our function\n",
    "ener = energylist[0]\n",
    "ener_mu = []\n",
    "mu=6.2693\n",
    "for E in ener:\n",
    "    E = E-mu\n",
    "    ener_mu.append(E)\n",
    "#eigenvectors are 1th output of our function\n",
    "ener_v = energylist[1]"
   ]
  },
  {
   "cell_type": "code",
   "execution_count": 7,
   "metadata": {},
   "outputs": [],
   "source": [
    "#z^2, xz, yz, x^2-y^2, xy\n",
    "orb_z2 = []\n",
    "orb_xz = []\n",
    "orb_yz = []\n",
    "orb_x2y2 = []\n",
    "orb_xy = []\n",
    "orb_z = []\n",
    "orb_x = []\n",
    "orb_y = []\n",
    "x_z2 = []\n",
    "x_xz = []\n",
    "x_yz = []\n",
    "x_x2y2 = []\n",
    "x_xy = []\n",
    "x_z = []\n",
    "x_x = []\n",
    "x_y = []\n",
    "for i in range(len(ener_v)):\n",
    "    vec_all = np.transpose(ener_v[i])\n",
    "    vec_abs = np.absolute(vec_all)\n",
    "    for p in range(16):\n",
    "        arg = np.argmax(vec_abs[p])\n",
    "        if arg==0 or arg==5:\n",
    "            orb_z2.append(ener_mu[i][p])\n",
    "            x_z2.append(i)\n",
    "        elif arg==1 or arg==6:\n",
    "            orb_xz.append(ener_mu[i][p])\n",
    "            x_xz.append(i)\n",
    "        elif arg==2 or arg==7:\n",
    "            orb_yz.append(ener_mu[i][p])\n",
    "            x_yz.append(i)\n",
    "        elif arg==3 or arg==8:\n",
    "            orb_x2y2.append(ener_mu[i][p])\n",
    "            x_x2y2.append(i)\n",
    "        elif arg==4 or arg==9:\n",
    "            orb_xy.append(ener_mu[i][p])\n",
    "            x_xy.append(i)\n",
    "        elif arg==10 or arg==13:\n",
    "            orb_z.append(ener_mu[i][p])\n",
    "            x_z.append(i)\n",
    "        elif arg==11 or arg==14:\n",
    "            orb_x.append(ener_mu[i][p])\n",
    "            x_x.append(i)\n",
    "        elif arg==12 or arg==15:\n",
    "            orb_y.append(ener_mu[i][p])\n",
    "            x_y.append(i)"
   ]
  },
  {
   "cell_type": "code",
   "execution_count": 8,
   "metadata": {},
   "outputs": [
    {
     "data": {
      "image/png": "[encoded data removed]",
      "text/plain": [
       "<Figure size 432x288 with 1 Axes>"
      ]
     },
     "metadata": {
      "needs_background": "light"
     },
     "output_type": "display_data"
    }
   ],
   "source": [
    "dosf1 = plt.figure()\n",
    "plt.hlines(y=0., xmin=0.0, xmax=10000, color='gray', linestyle='dashed', alpha=1)\n",
    "plt.axvline(x=0, color='gray', linestyle=':', markersize=0.01)\n",
    "plt.axvline(x=2000, color='gray', linestyle=':', markersize=0.01)\n",
    "plt.axvline(x=4000, color='gray', linestyle=':', markersize=0.01)\n",
    "plt.axvline(x=6000, color='gray', linestyle=':', markersize=0.01)\n",
    "plt.axvline(x=8000, color='gray', linestyle=':', markersize=0.01)\n",
    "plt.axvline(x=10000, color='gray', linestyle=':', markersize=0.01)\n",
    "plt.plot(x_z, orb_z, 'o', color='chocolate', markersize=1)\n",
    "plt.plot(x_x, orb_x, 'o', color='goldenrod', markersize=1)\n",
    "plt.plot(x_y, orb_y, 'o', color='orange', markersize=1)\n",
    "plt.plot(x_x2y2, orb_x2y2, 'o', color='darkred', markersize=1)\n",
    "plt.plot(x_xz, orb_xz, 'o', color='dodgerblue', markersize=1)\n",
    "plt.plot(x_yz, orb_yz, 'o', color='green', markersize=1)\n",
    "plt.plot(x_z2, orb_z2, 'o', color='tab:red', markersize=1)\n",
    "plt.plot(x_xy, orb_xy, 'o', color='blue', markersize=1)\n",
    "plt.yticks(fontsize=12)\n",
    "plt.show()"
   ]
  },
  {
   "cell_type": "code",
   "execution_count": 9,
   "metadata": {},
   "outputs": [],
   "source": [
    "#dosf1.savefig('bandstructure.pdf', bbox_inches='tight',dpi=2000)"
   ]
  },
  {
   "cell_type": "code",
   "execution_count": null,
   "metadata": {},
   "outputs": [],
   "source": []
  },
  {
   "cell_type": "code",
   "execution_count": 4,
   "metadata": {},
   "outputs": [],
   "source": [
    "#k_biglist - simple\n",
    "\n",
    "#N gives discretization for each of kx, ky, kz directions\n",
    "N = 80\n",
    "k_val = np.arange(0, 2*np.pi, 2*np.pi/N);\n",
    "q0=0\n",
    "#print(k_val)\n",
    "\n",
    "#making a big list of tuples (kx, ky, kz) with length of N*N*N tuples\n",
    "k_biglist = []\n",
    "for a in range(N):\n",
    "    for b in range(N):\n",
    "        for c in range(N):\n",
    "            k_biglist.append([k_val[a], k_val[b], k_val[c]])"
   ]
  },
  {
   "cell_type": "code",
   "execution_count": 5,
   "metadata": {},
   "outputs": [],
   "source": [
    "#definition of function for susceptibility to calculate the energies for a given list of k-values\n",
    "\n",
    "def energy(k_biglist):\n",
    "    eiglist = []\n",
    "    eigvectors = []\n",
    "    Ham = np.zeros([16, 16, len(k_biglist)], dtype=complex);\n",
    "        \n",
    "    for i in range(w):\n",
    "        #defining the exponent with dot product x*kx + y*ky + z*kz which we will use for FT\n",
    "        #it works faster if we include 1j prefactor already here\n",
    "        c_exp = np.exp(1j*(np.multiply(k_biglist, list_r[256*i]).sum(1)))\n",
    "        for o in range(256):\n",
    "            row = 256*i+o\n",
    "            n = list_nm[row][0]-1;\n",
    "            m = list_nm[row][1]-1;\n",
    "            #calculating Hamiltonian in momentum space\n",
    "            Ham[n][m] += list_re_im[row]*c_exp;\n",
    "\n",
    "    #diagonalizing Hamiltonian for each k-value from our list separately                    \n",
    "    for p in range(len(k_biglist)):\n",
    "        eig, eigv = la.eigh(Ham[:,:,p])\n",
    "        eiglist.append(np.real(eig))\n",
    "        eigvectors.append(eigv)\n",
    "        \n",
    "    return (eiglist, eigvectors)"
   ]
  },
  {
   "cell_type": "code",
   "execution_count": 7,
   "metadata": {},
   "outputs": [
    {
     "name": "stdout",
     "output_type": "stream",
     "text": [
      "100.683 minutes for calculation.\n"
     ]
    }
   ],
   "source": [
    "start_time = time.time();\n",
    "energylist = energy(k_biglist)\n",
    "print(round((time.time()-start_time)/60, 3), 'minutes for calculation.');"
   ]
  },
  {
   "cell_type": "code",
   "execution_count": null,
   "metadata": {},
   "outputs": [],
   "source": [
    "#eigenenergies are 0th output of our function\n",
    "ener = np.real(energylist[0])\n",
    "#eigenvectors are 1th output of our function\n",
    "ener_v = energylist[1]"
   ]
  },
  {
   "cell_type": "code",
   "execution_count": 10,
   "metadata": {},
   "outputs": [
    {
     "data": {
      "image/png": "[encoded data removed]",
      "text/plain": [
       "<Figure size 432x288 with 1 Axes>"
      ]
     },
     "metadata": {
      "needs_background": "light"
     },
     "output_type": "display_data"
    }
   ],
   "source": [
    "ener1 = np.array(ener)-6.2693\n",
    "ener1 = [item for sublist in ener1 for item in sublist]\n",
    "ener1 = np.array(ener1)\n",
    "\n",
    "x=[]\n",
    "y=[]\n",
    "num=500\n",
    "#delta = 8/num\n",
    "delta=0.01\n",
    "for t in range(num+1):\n",
    "    omega = -6+9*(t/num)\n",
    "    x.append(omega)\n",
    "    dos_sublist = (delta/((omega-ener1)**2 + delta**2))\n",
    "    dos=np.sum(dos_sublist)\n",
    "    y.append((1/np.pi)*dos/num)\n",
    "plt.plot(x, y, 'gray')\n",
    "plt.axvline(x=0, color='gray', linestyle='dashed')\n",
    "plt.show()"
   ]
  },
  {
   "cell_type": "code",
   "execution_count": 11,
   "metadata": {},
   "outputs": [
    {
     "name": "stdout",
     "output_type": "stream",
     "text": [
      "-0.005999999999999339 0.012000000000000455\n"
     ]
    }
   ],
   "source": [
    "#summing all states up to Fermi level and later normalizing to the filling of 13\n",
    "print(x[333],x[334])\n",
    "ys = sum(y[0:334])"
   ]
  },
  {
   "cell_type": "code",
   "execution_count": 12,
   "metadata": {},
   "outputs": [],
   "source": [
    "#z^2, xz, yz, x^2-y^2, xy\n",
    "orb_z2 = []\n",
    "orb_xz = []\n",
    "orb_yz = []\n",
    "orb_x2y2 = []\n",
    "orb_xy = []\n",
    "list_z2 = [0,5]\n",
    "list_xz = [1,6]\n",
    "list_yz = [2,7]\n",
    "list_x2y2 = [3,8]\n",
    "list_xy = [4,9]\n",
    "for i in range(len(ener_v)):\n",
    "    vec_all = np.transpose(ener_v[i])\n",
    "    for j in range(16):\n",
    "        #z2\n",
    "        en_orb = []\n",
    "        for k in list_z2:\n",
    "            en_orb.append(vec_all[j][k]*np.conj(vec_all[j][k]))\n",
    "        orb_z2.append(sum(en_orb))\n",
    "        \n",
    "        #xz\n",
    "        en_orb = []\n",
    "        for k in list_xz:\n",
    "            en_orb.append(vec_all[j][k]*np.conj(vec_all[j][k]))\n",
    "        orb_xz.append(sum(en_orb))\n",
    "        \n",
    "        #yz\n",
    "        en_orb = []\n",
    "        for k in list_yz:\n",
    "            en_orb.append(vec_all[j][k]*np.conj(vec_all[j][k]))\n",
    "        orb_yz.append(sum(en_orb))\n",
    "        \n",
    "        #x2y2\n",
    "        en_orb = []\n",
    "        for k in list_x2y2:\n",
    "            en_orb.append(vec_all[j][k]*np.conj(vec_all[j][k]))\n",
    "        orb_x2y2.append(sum(en_orb))\n",
    "\n",
    "        #xy\n",
    "        en_orb = []\n",
    "        for k in list_xy:\n",
    "            en_orb.append(vec_all[j][k]*np.conj(vec_all[j][k]))\n",
    "        orb_xy.append(sum(en_orb))\n",
    "        \n",
    "orb_z2 = np.array(orb_z2)\n",
    "orb_xz = np.array(orb_xz)\n",
    "orb_yz = np.array(orb_yz)\n",
    "orb_x2y2 = np.array(orb_x2y2)\n",
    "orb_xy = np.array(orb_xy)\n",
    "\n",
    "x=[]\n",
    "y_z2=[]\n",
    "y_xz = []\n",
    "y_yz = []\n",
    "y_x2y2 = []\n",
    "y_xy = []\n",
    "num=500\n",
    "# delta=8/num\n",
    "delta=0.01\n",
    "for t in range(num+1):\n",
    "    omega = -6+9*(t/num)\n",
    "    x.append(omega)\n",
    "    dos_sublist1 = (delta/((omega-ener1)**2 + delta**2))*orb_z2\n",
    "    dos_sublist2 = (delta/((omega-ener1)**2 + delta**2))*orb_xz\n",
    "    dos_sublist3 = (delta/((omega-ener1)**2 + delta**2))*orb_yz\n",
    "    dos_sublist4 = (delta/((omega-ener1)**2 + delta**2))*orb_x2y2\n",
    "    dos_sublist5 = (delta/((omega-ener1)**2 + delta**2))*orb_xy\n",
    "    dos1=np.sum(dos_sublist1)\n",
    "    dos2=np.sum(dos_sublist2)\n",
    "    dos3=np.sum(dos_sublist3)\n",
    "    dos4=np.sum(dos_sublist4)\n",
    "    dos5=np.sum(dos_sublist5)\n",
    "    y_z2.append((1/np.pi)*dos1/num)\n",
    "    y_xz.append((1/np.pi)*dos2/num)\n",
    "    y_yz.append((1/np.pi)*dos3/num)\n",
    "    y_x2y2.append((1/np.pi)*dos4/num)\n",
    "    y_xy.append((1/np.pi)*dos5/num)"
   ]
  },
  {
   "cell_type": "code",
   "execution_count": 14,
   "metadata": {},
   "outputs": [],
   "source": [
    "#all Co orbitals\n",
    "orb_Co = []\n",
    "list_Co = [0,1,2,3,4,5,6,7,8,9]\n",
    "for i in range(len(ener_v)):\n",
    "    vec_all = np.transpose(ener_v[i])\n",
    "    for j in range(16):\n",
    "        en_orb = []\n",
    "        for k in list_Co:\n",
    "            en_orb.append(vec_all[j][k]*np.conj(vec_all[j][k]))\n",
    "        orb_Co.append(sum(en_orb))\n",
    "orb_Co = np.array(orb_Co)\n",
    "x=[]\n",
    "y_Co=[]\n",
    "num=500\n",
    "#delta=8/num\n",
    "delta=0.01\n",
    "for t in range(num+1):\n",
    "    omega = -6+9*(t/num)\n",
    "    x.append(omega)\n",
    "    dos_sublist = (delta/((omega-ener1)**2 + delta**2))*orb_Co\n",
    "    dos=np.sum(dos_sublist)\n",
    "    y_Co.append((1/np.pi)*dos/num)"
   ]
  },
  {
   "cell_type": "code",
   "execution_count": 13,
   "metadata": {},
   "outputs": [],
   "source": [
    "#all As orbitals\n",
    "orb_As = []\n",
    "list_As = [10,11,12,13,14,15]\n",
    "for i in range(len(ener_v)):\n",
    "    vec_all = np.transpose(ener_v[i])\n",
    "    for j in range(16):\n",
    "        en_orb = []\n",
    "        for k in list_As:\n",
    "            en_orb.append(vec_all[j][k]*np.conj(vec_all[j][k]))\n",
    "        orb_As.append(sum(en_orb))\n",
    "orb_As = np.array(orb_As)\n",
    "x=[]\n",
    "y_As=[]\n",
    "num=500\n",
    "#delta=8/num\n",
    "delta=0.01\n",
    "for t in range(num+1):\n",
    "    omega = -6+9*(t/num)\n",
    "    x.append(omega)\n",
    "    dos_sublist = (delta/((omega-ener1)**2 + delta**2))*orb_As\n",
    "    dos=np.sum(dos_sublist)\n",
    "    y_As.append((1/np.pi)*dos/num)"
   ]
  },
  {
   "cell_type": "code",
   "execution_count": 27,
   "metadata": {},
   "outputs": [
    {
     "data": {
      "image/png": "[encoded data removed]",
      "text/plain": [
       "<Figure size 432x288 with 1 Axes>"
      ]
     },
     "metadata": {
      "needs_background": "light"
     },
     "output_type": "display_data"
    }
   ],
   "source": [
    "#total, Co and As\n",
    "plt.plot(x, np.real(y_As/ys)*13/delta, 'orangered')\n",
    "plt.plot(x, np.real(y_Co/ys)*13/delta, 'purple', markersize=1)\n",
    "plt.fill_between(x, 0, y/ys*13/delta, facecolor='gray')\n",
    "plt.plot(x, (y/ys)*13/delta, 'k')\n",
    "plt.fill_between(x, 0, y_Co/ys*13/delta, facecolor='orchid')\n",
    "plt.fill_between(x, 0, y_As/ys*13/delta, facecolor='orange')\n",
    "plt.xlim(-0.2,0.2)\n",
    "plt.ylim(0,10)\n",
    "plt.xticks([-0.2,-0.1,0,0.1,0.2],fontsize=14)\n",
    "plt.yticks(fontsize=14)\n",
    "plt.axvline(x=0, color='lightgray', linestyle='--', markersize=0.01)\n",
    "plt.show()"
   ]
  },
  {
   "cell_type": "code",
   "execution_count": null,
   "metadata": {},
   "outputs": [],
   "source": []
  },
  {
   "cell_type": "code",
   "execution_count": 116,
   "metadata": {},
   "outputs": [
    {
     "name": "stdout",
     "output_type": "stream",
     "text": [
      "x= -0.005999999999999339\n",
      "DoS 0.06299743864861976\n",
      "0.13818881136861047\n",
      "0.1844936109661883\n",
      "0.1845362016796584\n",
      "0.3372463688340795\n",
      "1.0\n"
     ]
    }
   ],
   "source": [
    "ind=333\n",
    "print('x=',x[ind])\n",
    "print('DoS', y[ind]/ys*13)\n",
    "print(np.real(y_x2y2[ind]/y_xy[ind]))\n",
    "print(np.real(y_yz[ind]/y_xy[ind]))\n",
    "print(np.real(y_xz[ind]/y_xy[ind]))\n",
    "print(np.real(y_z2[ind]/y_xy[ind]))\n",
    "print(np.real(y_xy[ind]/y_xy[ind]))"
   ]
  },
  {
   "cell_type": "code",
   "execution_count": 169,
   "metadata": {},
   "outputs": [
    {
     "name": "stderr",
     "output_type": "stream",
     "text": [
      "C:\\ProgramData\\Anaconda3\\lib\\site-packages\\numpy\\core\\numeric.py:538: ComplexWarning: Casting complex values to real discards the imaginary part\n",
      "  return array(a, dtype, copy=False, order=order)\n"
     ]
    },
    {
     "data": {
      "image/png": "[encoded data removed]",
      "text/plain": [
       "<Figure size 432x288 with 1 Axes>"
      ]
     },
     "metadata": {
      "needs_background": "light"
     },
     "output_type": "display_data"
    }
   ],
   "source": [
    "#All\n",
    "dosf = plt.figure()\n",
    "plt.axvline(x=0, color='gray', linestyle='--', markersize=0.01)\n",
    "plt.plot(x, y/ys*13, 'k')\n",
    "plt.plot(x, y_As/ys*13, 'orange')\n",
    "plt.plot(x, y_Co/ys*13, 'purple')\n",
    "\n",
    "# plt.plot(x, y_x2y2/ys*13, 'dodgerblue')\n",
    "# plt.plot(x, y_yz/ys*13, 'darkred')\n",
    "# plt.plot(x, y_xz/ys*13, 'darkred')\n",
    "# plt.plot(x, y_z2/ys*13, 'green')\n",
    "# plt.plot(x, y_xy/ys*13, 'blue')\n",
    "\n",
    "plt.plot(x, y_x2y2/ys*13, 'olive')\n",
    "plt.plot(x, y_yz/ys*13, 'dodgerblue')\n",
    "plt.plot(x, y_xz/ys*13, 'dodgerblue')\n",
    "plt.plot(x, y_z2/ys*13, 'tab:red')\n",
    "plt.plot(x, y_xy/ys*13, 'blue')\n",
    "\n",
    "plt.fill_between(x, 0, y/ys*13., facecolor='gray')\n",
    "plt.fill_between(x, 0, y_Co/ys*13., facecolor='orchid')\n",
    "plt.fill_between(x, 0, y_As/ys*13., facecolor='gold')\n",
    "#plt.fill_between(x, 0, y_eg/ys*13., facecolor='cadetblue')\n",
    "plt.xticks(fontsize=12)\n",
    "plt.yticks(fontsize=12)\n",
    "\n",
    "plt.show()"
   ]
  },
  {
   "cell_type": "code",
   "execution_count": 170,
   "metadata": {},
   "outputs": [],
   "source": [
    "dosf.savefig('dos_sym_full_v4.pdf', bbox_inches='tight',dpi=2000)"
   ]
  },
  {
   "cell_type": "code",
   "execution_count": null,
   "metadata": {},
   "outputs": [],
   "source": []
  }
 ],
 "metadata": {
  "kernelspec": {
   "display_name": "Python 3",
   "language": "python",
   "name": "python3"
  },
  "language_info": {
   "codemirror_mode": {
    "name": "ipython",
    "version": 3
   },
   "file_extension": ".py",
   "mimetype": "text/x-python",
   "name": "python",
   "nbconvert_exporter": "python",
   "pygments_lexer": "ipython3",
   "version": "3.7.4"
  }
 },
 "nbformat": 4,
 "nbformat_minor": 2
}
