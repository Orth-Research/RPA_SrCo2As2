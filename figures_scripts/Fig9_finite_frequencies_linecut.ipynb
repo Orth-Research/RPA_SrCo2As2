{
 "cells": [
  {
   "cell_type": "code",
   "execution_count": 3,
   "metadata": {},
   "outputs": [],
   "source": [
    "import numpy as np\n",
    "import scipy.linalg as la\n",
    "import matplotlib.pyplot as plt\n",
    "import time\n",
    "from matplotlib import cm\n",
    "from collections import OrderedDict"
   ]
  },
  {
   "cell_type": "code",
   "execution_count": 107,
   "metadata": {},
   "outputs": [
    {
     "name": "stdout",
     "output_type": "stream",
     "text": [
      "(1, 121, 65536)\n",
      "(2, 121, 65536)\n",
      "(3, 121, 65536)\n",
      "(4, 121, 65536)\n",
      "(5, 121, 65536)\n",
      "(6, 121, 65536)\n",
      "(7, 121, 65536)\n",
      "(8, 121, 65536)\n",
      "(9, 121, 65536)\n",
      "(10, 121, 65536)\n",
      "(11, 121, 65536)\n",
      "(12, 121, 65536)\n",
      "(13, 121, 65536)\n",
      "(14, 121, 65536)\n",
      "(15, 121, 65536)\n",
      "(16, 121, 65536)\n",
      "(17, 121, 65536)\n",
      "(18, 121, 65536)\n",
      "(19, 121, 65536)\n",
      "(20, 121, 65536)\n",
      "(21, 121, 65536)\n",
      "(22, 121, 65536)\n",
      "(23, 121, 65536)\n",
      "(24, 121, 65536)\n",
      "(25, 121, 65536)\n",
      "(26, 121, 65536)\n",
      "(27, 121, 65536)\n",
      "(28, 121, 65536)\n",
      "(29, 121, 65536)\n",
      "(30, 121, 65536)\n",
      "(31, 121, 65536)\n"
     ]
    }
   ],
   "source": [
    "#physical line cut GXPNGMX\n",
    "susc_phys_all = []\n",
    "qp=120\n",
    "q_tot = 21\n",
    "orb=16\n",
    "N=25\n",
    "kz = 0\n",
    "fil=13.0\n",
    "my_path = f\"C:/Users/amnedic/Documents/GitHub/RPA_SrCo2As2/results/2dcuts_including_finite_frequencies/2dcuts_high_resolution/GX_XM_MG/'+str(fil)+'/'\n",
    "omegalist = np.linspace(0,0.30,num=31)\n",
    "suscall_omega = []\n",
    "for omega in omegalist:\n",
    "    suscall = []\n",
    "    for q in range(qp):\n",
    "        suscGXMG = np.loadtxt(my_path+'GX_XM_MG_N='+str(N)+'_fil='+str(fil)+'_omega='+str(omega)+'_q='+str(q)+'.dat', dtype=complex)\n",
    "        suscall.append(suscGXMG)\n",
    "    suscG = np.loadtxt(my_path+'GX_XM_MG_N='+str(N)+'_fil='+str(fil)+'_omega='+str(omega)+'_q=0.dat', dtype=complex)\n",
    "    suscall.append(suscG)\n",
    "    suscall_omega.append(suscall)\n",
    "    print(np.shape(suscall_omega))"
   ]
  },
  {
   "cell_type": "code",
   "execution_count": 108,
   "metadata": {},
   "outputs": [
    {
     "name": "stdout",
     "output_type": "stream",
     "text": [
      "(31, 121, 65536)\n"
     ]
    }
   ],
   "source": [
    "print(np.shape(suscall_omega))"
   ]
  },
  {
   "cell_type": "code",
   "execution_count": 109,
   "metadata": {},
   "outputs": [],
   "source": [
    "#physical susceptibility\n",
    "def inv_physical_susc(U, JUratio, qnt, omega):\n",
    "    J = JUratio*U\n",
    "    U1 = U-2*J\n",
    "    J1 = J\n",
    "    o=5\n",
    "    inter=np.zeros((o**2,o**2), dtype=complex)\n",
    "    lis = []\n",
    "    for i in range(o**2):\n",
    "        inter[i,i] = U1\n",
    "    for i in range(o):\n",
    "        param = o*i+i\n",
    "        lis.append(param)\n",
    "        inter[param,param]=U\n",
    "    for k in lis:\n",
    "        for m in lis:\n",
    "            if m !=k:\n",
    "                inter[k,m] = J\n",
    "    for k in range(o):\n",
    "        for m in range(o):\n",
    "            A = o*k+m\n",
    "            B = o*m+k\n",
    "            if m !=k:\n",
    "                inter[A,B] = J1\n",
    "    inter5=inter\n",
    "    \n",
    "    Co = np.zeros((80,80),dtype=complex)\n",
    "    Co[0:5,0:5] = inter5[0:5,0:5]\n",
    "    Co[16:21,16:21] = inter5[5:10,5:10]\n",
    "    Co[32:37,32:37] = inter5[10:15,10:15]\n",
    "    Co[48:53,48:53] = inter5[15:20,15:20]\n",
    "    Co[64:69,64:69] = inter5[20:25,20:25]\n",
    "    Co[0:5,16:21] = inter5[0:5,5:10]\n",
    "    Co[0:5,32:37] = inter5[0:5,10:15]\n",
    "    Co[0:5,48:53] = inter5[0:5,15:20]\n",
    "    Co[0:5,64:69] = inter5[0:5,20:25]\n",
    "    Co[16:21,0:5] = inter5[5:10,0:5]\n",
    "    Co[16:21,32:37] = inter5[5:10,10:15]\n",
    "    Co[16:21,48:53] = inter5[5:10,15:20]\n",
    "    Co[16:21,64:69] = inter5[5:10,20:25]\n",
    "    Co[32:37,0:5] = inter5[10:15,0:5]\n",
    "    Co[32:37,16:21] = inter5[10:15,5:10]\n",
    "    Co[32:37,48:53] = inter5[10:15,15:20]\n",
    "    Co[32:37,64:69] = inter5[10:15,20:25]\n",
    "    Co[48:53,0:5] = inter5[15:20,0:5]\n",
    "    Co[48:53,16:21] = inter5[15:20,5:10]\n",
    "    Co[48:53,32:37] = inter5[15:20,10:15]\n",
    "    Co[48:53,64:69] = inter5[15:20,20:25]\n",
    "    Co[64:69,0:5] = inter5[20:25,0:5]\n",
    "    Co[64:69,16:21] = inter5[20:25,5:10]\n",
    "    Co[64:69,32:37] = inter5[20:25,10:15]\n",
    "    Co[64:69,48:53] = inter5[20:25,15:20]\n",
    "    \n",
    "    As = np.zeros((48,48),dtype=complex)\n",
    "\n",
    "    INT_inter = np.zeros((269,269),dtype=complex)\n",
    "    INT=np.zeros((256,256),dtype=complex)\n",
    "    INT_inter[0:80,0:80] = Co\n",
    "    INT_inter[85:165,85:165] = Co\n",
    "    INT_inter[170:218,170:218] = As\n",
    "    INT_inter[221:269,221:269] = As\n",
    "    INT = INT_inter[0:256,0:256]\n",
    "\n",
    "    o=16\n",
    "    susc_resh=np.reshape(np.transpose(suscall_omega[omega][qnt]), (o**2,o**2))\n",
    "    inver = np.dot(np.linalg.inv(np.identity(o**2) - np.dot((susc_resh), INT)), susc_resh)\n",
    "    \n",
    "    #physical\n",
    "    lis = []\n",
    "    for i in range(o):\n",
    "        lis.append(o*i+i)\n",
    "    susc_phys_component = []\n",
    "    for i in lis:\n",
    "        for k in lis:\n",
    "            susc_phys_component.append(inver[k][i])\n",
    "    susc_phys=0.5*np.imag((np.sum(susc_phys_component)))\n",
    "    return susc_phys"
   ]
  },
  {
   "cell_type": "code",
   "execution_count": 110,
   "metadata": {},
   "outputs": [],
   "source": [
    "def smallfunc(U, JUratio, omega):\n",
    "    phys = []\n",
    "    for qnt in range(qp+1):\n",
    "        susc_p = inv_physical_susc(U,JUratio,qnt, omega)\n",
    "        phys.append(susc_p)\n",
    "    return phys"
   ]
  },
  {
   "cell_type": "code",
   "execution_count": 111,
   "metadata": {},
   "outputs": [],
   "source": [
    "# #12.78\n",
    "# U=2.94017731*0.995\n",
    "# JUratio = 0.25\n",
    "# # U=3.158537376*0.995\n",
    "# # JUratio = 0\n",
    "\n",
    "# #13.12\n",
    "# U=1.672210008*0.995\n",
    "# JUratio = 0.25\n",
    "\n",
    "#13.00\n",
    "U=1.745195776*0.995\n",
    "JUratio = 0.25\n",
    "\n",
    "imag_disp = [smallfunc(U, JUratio, 30), smallfunc(U, JUratio, 29), smallfunc(U, JUratio, 28), smallfunc(U, JUratio, 27),smallfunc(U, JUratio, 26),smallfunc(U, JUratio, 25),smallfunc(U, JUratio, 24),smallfunc(U, JUratio, 23),smallfunc(U, JUratio, 22),smallfunc(U, JUratio, 21),smallfunc(U, JUratio, 20), smallfunc(U, JUratio, 19), smallfunc(U, JUratio, 18), smallfunc(U, JUratio, 17),smallfunc(U, JUratio, 16),smallfunc(U, JUratio, 15),smallfunc(U, JUratio, 14),smallfunc(U, JUratio, 13),smallfunc(U, JUratio, 12),smallfunc(U, JUratio, 11),smallfunc(U, JUratio, 10), smallfunc(U, JUratio, 9), smallfunc(U, JUratio, 8), smallfunc(U, JUratio, 7),smallfunc(U, JUratio, 6),smallfunc(U, JUratio, 5),smallfunc(U, JUratio, 4),smallfunc(U, JUratio, 3),smallfunc(U, JUratio, 2),smallfunc(U, JUratio, 1)]\n",
    "#imag_disp = [smallfunc(U, JUratio, 15),smallfunc(U, JUratio, 14),smallfunc(U, JUratio, 13),smallfunc(U, JUratio, 12),smallfunc(U, JUratio, 11),smallfunc(U, JUratio, 10), smallfunc(U, JUratio, 9), smallfunc(U, JUratio, 8), smallfunc(U, JUratio, 7),smallfunc(U, JUratio, 6),smallfunc(U, JUratio, 5),smallfunc(U, JUratio, 4),smallfunc(U, JUratio, 3),smallfunc(U, JUratio, 2),smallfunc(U, JUratio, 1)]"
   ]
  },
  {
   "cell_type": "code",
   "execution_count": 114,
   "metadata": {},
   "outputs": [
    {
     "data": {
      "image/png": "[encoded data removed]",
      "text/plain": [
       "<Figure size 432x288 with 2 Axes>"
      ]
     },
     "metadata": {
      "needs_background": "light"
     },
     "output_type": "display_data"
    }
   ],
   "source": [
    "width = 1.5*3.375\n",
    "height = width/1.618\n",
    "x_min = 0-0.5\n",
    "x_max = 121-0.5\n",
    "y_min = 0.0\n",
    "y_max = 0.3001\n",
    "deltax = 20\n",
    "deltay = 0.05\n",
    "\n",
    "fig = plt.figure()\n",
    "fig = plt.figure(1, figsize = [width,height])\n",
    "ax = fig.add_subplot(111)\n",
    "cax = ax.matshow(imag_disp, extent=[x_min,x_max,y_min,y_max], aspect='auto', cmap=cm.inferno)\n",
    "plt.gca().xaxis.tick_bottom()\n",
    "\n",
    "#ticks\n",
    "grid_x_ticks = np.arange(x_min+0.5, x_max+0.5, 40)\n",
    "grid_y_ticks = np.arange(y_min, y_max, deltay)\n",
    "ax.set_xticks(grid_x_ticks , minor=False)\n",
    "ax.set_yticks(grid_y_ticks, minor=False)\n",
    "plt.xticks(fontsize=12)\n",
    "plt.yticks(fontsize=12)\n",
    "ax.set_xticklabels(['$\\Gamma$','X', 'M','$\\Gamma$'])\n",
    "#plt.ylabel('$\\omega$')\n",
    "\n",
    "#colorbar\n",
    "cbar = fig.colorbar(cax)\n",
    "cbar.solids.set_edgecolor(\"face\")\n",
    "for t in cbar.ax.get_yticklabels():\n",
    "    t.set_fontsize(18)\n",
    "from matplotlib import ticker\n",
    "cbar.locator = ticker.MultipleLocator(base=np.max(imag_disp)/4)\n",
    "cbar.update_ticks()\n",
    "cbar.set_ticks([0,3.35,6.7,10.05,13.4])  # vertically oriented colorbar\n",
    "#cbar.set_label('Im $\\chi(\\omega)$',rotation=0, labelpad=-20, y=1.1,)\n",
    "\n",
    "for t in ax.get_yticklabels():\n",
    "    t.set_fontsize(18)\n",
    "    \n",
    "for t in ax.get_xticklabels():\n",
    "    t.set_fontsize(18)\n",
    "\n",
    "deltax = 1\n",
    "deltay = 0.01\n",
    "grid_y_ticks = np.arange(y_min, y_max, deltay)\n",
    "ax.set_yticks(grid_y_ticks, minor=True)\n",
    "\n",
    "plt.show()"
   ]
  }
 ],
 "metadata": {
  "kernelspec": {
   "display_name": "Python 3",
   "language": "python",
   "name": "python3"
  },
  "language_info": {
   "codemirror_mode": {
    "name": "ipython",
    "version": 3
   },
   "file_extension": ".py",
   "mimetype": "text/x-python",
   "name": "python",
   "nbconvert_exporter": "python",
   "pygments_lexer": "ipython3",
   "version": "3.7.4"
  }
 },
 "nbformat": 4,
 "nbformat_minor": 2
}
