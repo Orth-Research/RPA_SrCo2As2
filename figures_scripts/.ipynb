{
 "cells": [
  {
   "cell_type": "code",
   "execution_count": 1,
   "metadata": {},
   "outputs": [],
   "source": [
    "import numpy as np\n",
    "import scipy.linalg as la\n",
    "import matplotlib.pyplot as plt\n",
    "import time\n",
    "from matplotlib import cm\n",
    "from collections import OrderedDict"
   ]
  },
  {
   "cell_type": "code",
   "execution_count": 2,
   "metadata": {},
   "outputs": [],
   "source": [
    "#physical susceptibility\n",
    "def inv_physical_susc(U, JUratio, qnt):\n",
    "    J = JUratio*U\n",
    "    U1 = U-2*J\n",
    "    J1 = J\n",
    "    o=5\n",
    "    inter=np.zeros((o**2,o**2), dtype=float)\n",
    "    lis = []\n",
    "    for i in range(o**2):\n",
    "        inter[i,i] = U1\n",
    "    for i in range(o):\n",
    "        param = o*i+i\n",
    "        lis.append(param)\n",
    "        inter[param,param]=U\n",
    "    for k in lis:\n",
    "        for m in lis:\n",
    "            if m !=k:\n",
    "                inter[k,m] = J\n",
    "    for k in range(o):\n",
    "        for m in range(o):\n",
    "            A = o*k+m\n",
    "            B = o*m+k\n",
    "            if m !=k:\n",
    "                inter[A,B] = J1\n",
    "    inter5=inter\n",
    "    \n",
    "    Co = np.zeros((80,80))\n",
    "    Co[0:5,0:5] = inter5[0:5,0:5]\n",
    "    Co[16:21,16:21] = inter5[5:10,5:10]\n",
    "    Co[32:37,32:37] = inter5[10:15,10:15]\n",
    "    Co[48:53,48:53] = inter5[15:20,15:20]\n",
    "    Co[64:69,64:69] = inter5[20:25,20:25]\n",
    "    Co[0:5,16:21] = inter5[0:5,5:10]\n",
    "    Co[0:5,32:37] = inter5[0:5,10:15]\n",
    "    Co[0:5,48:53] = inter5[0:5,15:20]\n",
    "    Co[0:5,64:69] = inter5[0:5,20:25]\n",
    "    Co[16:21,0:5] = inter5[5:10,0:5]\n",
    "    Co[16:21,32:37] = inter5[5:10,10:15]\n",
    "    Co[16:21,48:53] = inter5[5:10,15:20]\n",
    "    Co[16:21,64:69] = inter5[5:10,20:25]\n",
    "    Co[32:37,0:5] = inter5[10:15,0:5]\n",
    "    Co[32:37,16:21] = inter5[10:15,5:10]\n",
    "    Co[32:37,48:53] = inter5[10:15,15:20]\n",
    "    Co[32:37,64:69] = inter5[10:15,20:25]\n",
    "    Co[48:53,0:5] = inter5[15:20,0:5]\n",
    "    Co[48:53,16:21] = inter5[15:20,5:10]\n",
    "    Co[48:53,32:37] = inter5[15:20,10:15]\n",
    "    Co[48:53,64:69] = inter5[15:20,20:25]\n",
    "    Co[64:69,0:5] = inter5[20:25,0:5]\n",
    "    Co[64:69,16:21] = inter5[20:25,5:10]\n",
    "    Co[64:69,32:37] = inter5[20:25,10:15]\n",
    "    Co[64:69,48:53] = inter5[20:25,15:20]\n",
    "    \n",
    "    As = np.zeros((48,48))\n",
    "\n",
    "    INT_inter = np.zeros((269,269))\n",
    "    INT=np.zeros((256,256))\n",
    "    INT_inter[0:80,0:80] = Co\n",
    "    INT_inter[85:165,85:165] = Co\n",
    "    INT_inter[170:218,170:218] = As\n",
    "    INT_inter[221:269,221:269] = As\n",
    "    INT = INT_inter[0:256,0:256]\n",
    "\n",
    "    o=16\n",
    "    susc_resh=np.reshape(np.transpose(suscall[qnt]), (o**2,o**2))\n",
    "    inver = np.dot(np.linalg.inv(np.identity(o**2) - np.dot((susc_resh), INT)), susc_resh)\n",
    "    \n",
    "    #physical\n",
    "    lis = []\n",
    "    for i in range(o):\n",
    "        lis.append(o*i+i)\n",
    "    susc_phys_component = []\n",
    "    for i in lis:\n",
    "        for k in lis:\n",
    "            susc_phys_component.append(inver[k][i])\n",
    "    susc_phys=0.5*np.real(np.sum(susc_phys_component))\n",
    "    return susc_phys\n",
    "\n",
    "#     eigenValues = la.eigh(inver)[0] #selecting eigenvalues only\n",
    "#     eigenValues = np.real(eigenValues)\n",
    "#     inveigenValues = 1/eigenValues\n",
    "#     idx = inveigenValues.argsort() #sorting eigenvalues\n",
    "#     inveigenValues = inveigenValues[idx]\n",
    "#     return 1/abs(inveigenValues[0])"
   ]
  },
  {
   "cell_type": "code",
   "execution_count": 3,
   "metadata": {},
   "outputs": [],
   "source": [
    "def smallfunc(U, JUratio):\n",
    "    phys = []\n",
    "    for qnt in range(51):\n",
    "        susc_p = inv_physical_susc(U,JUratio,qnt)\n",
    "        phys.append(susc_p)\n",
    "    return phys"
   ]
  },
  {
   "cell_type": "code",
   "execution_count": null,
   "metadata": {},
   "outputs": [],
   "source": [
    "#physical\n",
    "susc_phys_all = []\n",
    "q_tot = 21\n",
    "orb=16\n",
    "N=25\n",
    "kz = 0\n",
    "\n",
    "fil=12.78\n",
    "UoverUc = 0.995\n",
    "U = 2.94017731*UoverUc #12.78\n",
    "JUratio = 0.25\n",
    "\n",
    "# fil=12.78\n",
    "# UoverUc = 0.995\n",
    "# U = 3.158537376*UoverUc #12.78\n",
    "# JUratio = 0.\n",
    "\n",
    "# fil=13.00\n",
    "# UoverUc = 0.995\n",
    "# U=1.745195776*UoverUc #13.00\n",
    "# JUratio = 0.25\n",
    "\n",
    "my_path = 'C:/Users/amnedic/Desktop/AllHams/2dcuts_including_finite_frequencies/'+str(fil)+'/z='+str(kz)+'/'\n",
    "for c in range(q_tot):\n",
    "    cut = str(c)\n",
    "    susc0 = np.loadtxt(my_path+'2D_GXnumba_N='+str(N)+'_fil='+str(fil)+'_z='+str(kz)+'_y='+str(cut)+'_q=0.dat', dtype=complex)\n",
    "    susc1 = np.loadtxt(my_path+'2D_GXnumba_N='+str(N)+'_fil='+str(fil)+'_z='+str(kz)+'_y='+str(cut)+'_q=1.dat', dtype=complex)\n",
    "    susc2 = np.loadtxt(my_path+'2D_GXnumba_N='+str(N)+'_fil='+str(fil)+'_z='+str(kz)+'_y='+str(cut)+'_q=2.dat', dtype=complex)\n",
    "    susc3 = np.loadtxt(my_path+'2D_GXnumba_N='+str(N)+'_fil='+str(fil)+'_z='+str(kz)+'_y='+str(cut)+'_q=3.dat', dtype=complex)\n",
    "    susc4 = np.loadtxt(my_path+'2D_GXnumba_N='+str(N)+'_fil='+str(fil)+'_z='+str(kz)+'_y='+str(cut)+'_q=4.dat', dtype=complex)\n",
    "    susc5 = np.loadtxt(my_path+'2D_GXnumba_N='+str(N)+'_fil='+str(fil)+'_z='+str(kz)+'_y='+str(cut)+'_q=5.dat', dtype=complex)\n",
    "    susc6 = np.loadtxt(my_path+'2D_GXnumba_N='+str(N)+'_fil='+str(fil)+'_z='+str(kz)+'_y='+str(cut)+'_q=6.dat', dtype=complex)\n",
    "    susc7 = np.loadtxt(my_path+'2D_GXnumba_N='+str(N)+'_fil='+str(fil)+'_z='+str(kz)+'_y='+str(cut)+'_q=7.dat', dtype=complex)\n",
    "    susc8 = np.loadtxt(my_path+'2D_GXnumba_N='+str(N)+'_fil='+str(fil)+'_z='+str(kz)+'_y='+str(cut)+'_q=8.dat', dtype=complex)\n",
    "    susc9 = np.loadtxt(my_path+'2D_GXnumba_N='+str(N)+'_fil='+str(fil)+'_z='+str(kz)+'_y='+str(cut)+'_q=9.dat', dtype=complex)\n",
    "    susc10 = np.loadtxt(my_path+'2D_GXnumba_N='+str(N)+'_fil='+str(fil)+'_z='+str(kz)+'_y='+str(cut)+'_q=10.dat', dtype=complex)\n",
    "    susc11 = np.loadtxt(my_path+'2D_GXnumba_N='+str(N)+'_fil='+str(fil)+'_z='+str(kz)+'_y='+str(cut)+'_q=11.dat', dtype=complex)\n",
    "    susc12 = np.loadtxt(my_path+'2D_GXnumba_N='+str(N)+'_fil='+str(fil)+'_z='+str(kz)+'_y='+str(cut)+'_q=12.dat', dtype=complex)\n",
    "    susc13 = np.loadtxt(my_path+'2D_GXnumba_N='+str(N)+'_fil='+str(fil)+'_z='+str(kz)+'_y='+str(cut)+'_q=13.dat', dtype=complex)\n",
    "    susc14 = np.loadtxt(my_path+'2D_GXnumba_N='+str(N)+'_fil='+str(fil)+'_z='+str(kz)+'_y='+str(cut)+'_q=14.dat', dtype=complex)\n",
    "    susc15 = np.loadtxt(my_path+'2D_GXnumba_N='+str(N)+'_fil='+str(fil)+'_z='+str(kz)+'_y='+str(cut)+'_q=15.dat', dtype=complex)\n",
    "    susc16 = np.loadtxt(my_path+'2D_GXnumba_N='+str(N)+'_fil='+str(fil)+'_z='+str(kz)+'_y='+str(cut)+'_q=16.dat', dtype=complex)\n",
    "    susc17 = np.loadtxt(my_path+'2D_GXnumba_N='+str(N)+'_fil='+str(fil)+'_z='+str(kz)+'_y='+str(cut)+'_q=17.dat', dtype=complex)\n",
    "    susc18 = np.loadtxt(my_path+'2D_GXnumba_N='+str(N)+'_fil='+str(fil)+'_z='+str(kz)+'_y='+str(cut)+'_q=18.dat', dtype=complex)\n",
    "    susc19 = np.loadtxt(my_path+'2D_GXnumba_N='+str(N)+'_fil='+str(fil)+'_z='+str(kz)+'_y='+str(cut)+'_q=19.dat', dtype=complex)\n",
    "    susc20 = np.loadtxt(my_path+'2D_GXnumba_N='+str(N)+'_fil='+str(fil)+'_z='+str(kz)+'_y='+str(cut)+'_q=20.dat', dtype=complex)\n",
    "\n",
    "    suscall = np.array([susc0,susc1,susc2,susc3,susc4,susc5,susc6,susc7,susc8,susc9,susc10,susc11,susc12,susc13,susc14,susc15,susc16,susc17,susc18,susc19,susc20])    \n",
    "    phys = []\n",
    "    for qnt in range(q_tot):\n",
    "        susc_p = inv_physical_susc(U,JUratio,qnt)\n",
    "        phys.append(susc_p)\n",
    "    susc_phys_all.append(phys)\n",
    "    print('cut = ', cut, ', progres:', round(len(susc_phys_all)/20*100, 3), '%')"
   ]
  },
  {
   "cell_type": "code",
   "execution_count": 82,
   "metadata": {},
   "outputs": [
    {
     "data": {
      "image/png": "[encoded data removed]",
      "text/plain": [
       "<Figure size 432x288 with 2 Axes>"
      ]
     },
     "metadata": {
      "needs_background": "light"
     },
     "output_type": "display_data"
    }
   ],
   "source": [
    "N=21\n",
    "fig, ax = plt.subplots()\n",
    "c=ax.imshow(np.log10(np.real(susc_phys_all)), interpolation=None, cmap=plt.get_cmap('inferno_r'))\n",
    "fig.colorbar(c)\n",
    "plt.show()"
   ]
  },
  {
   "cell_type": "code",
   "execution_count": 83,
   "metadata": {},
   "outputs": [
    {
     "name": "stdout",
     "output_type": "stream",
     "text": [
      "(21, 21)\n"
     ]
    }
   ],
   "source": [
    "print(np.shape(susc_phys_all))"
   ]
  },
  {
   "cell_type": "code",
   "execution_count": 91,
   "metadata": {},
   "outputs": [
    {
     "name": "stdout",
     "output_type": "stream",
     "text": [
      "4.058789096655754 1.7627097078866778\n"
     ]
    },
    {
     "data": {
      "text/plain": [
       "<Figure size 432x288 with 0 Axes>"
      ]
     },
     "metadata": {},
     "output_type": "display_data"
    },
    {
     "data": {
      "image/png": "[encoded data removed]",
      "text/plain": [
       "<Figure size 432x288 with 2 Axes>"
      ]
     },
     "metadata": {
      "needs_background": "light"
     },
     "output_type": "display_data"
    },
    {
     "name": "stdout",
     "output_type": "stream",
     "text": [
      "kz= 0 J/U= 0.25 U= 2.92547642345\n"
     ]
    }
   ],
   "source": [
    "#full BZ inlcuding the edges\n",
    "\n",
    "susc_phys_all = np.real(susc_phys_all)\n",
    "newlistfull = []\n",
    "for k in range(41):\n",
    "    sublist = []\n",
    "    if k<21:\n",
    "        for m in range(41):\n",
    "            if m<21:\n",
    "                sublist.append(susc_phys_all[20-k][20-m])\n",
    "            else:\n",
    "                sublist.append(susc_phys_all[20-k][m-20])\n",
    "    else:\n",
    "        for m in range(41):\n",
    "            if m<21:\n",
    "                sublist.append(susc_phys_all[k-20][20-m])\n",
    "            else:\n",
    "                sublist.append(susc_phys_all[k-20][m-20])\n",
    "    newlistfull.append(sublist)\n",
    "\n",
    "newlistfull = np.array(newlistfull, dtype=float)\n",
    "\n",
    "bz = plt.figure()\n",
    "bz, ax = plt.subplots()\n",
    "c=ax.imshow(np.log10(np.real(newlistfull)), interpolation=None, cmap=plt.get_cmap('inferno_r'))\n",
    "plt.axis('off')\n",
    "plt.gca().xaxis.tick_bottom()\n",
    "plt.hlines(y=0., xmin=0.0, xmax=0.5, color='w', linestyle='dashed', alpha=0.2)\n",
    "\n",
    "minval = np.amin(np.log10(np.real(newlistfull)))\n",
    "maxval = np.amax(np.log10(np.real(newlistfull)))\n",
    "print(np.amax(np.log(np.real(newlistfull))), maxval)\n",
    "minval = 0.4\n",
    "maxval = 1.8\n",
    "t_list2 = minval + np.linspace(0., 1., num=5)*(maxval-minval)\n",
    "\n",
    "cbar = fig.colorbar(c, ax=ax, ticks=t_list2, orientation=\"vertical\")\n",
    "cbar.ax.set_yticklabels(t_list2)\n",
    "cbar.ax.tick_params(labelsize=12)\n",
    "c.set_clim(minval, maxval)\n",
    "\n",
    "plt.show()\n",
    "print('kz=', kz, 'J/U=', JUratio, 'U=', U)\n"
   ]
  },
  {
   "cell_type": "code",
   "execution_count": null,
   "metadata": {},
   "outputs": [],
   "source": [
    "#ln\n",
    "#full BZ inlcuding the edges\n",
    "\n",
    "bz = plt.figure()\n",
    "bz, ax = plt.subplots()\n",
    "c=ax.imshow(np.log(np.real(newlistfull)), interpolation=None, cmap=plt.get_cmap('inferno_r'))\n",
    "plt.axis('off')\n",
    "plt.gca().xaxis.tick_bottom()\n",
    "plt.hlines(y=0., xmin=0.0, xmax=0.5, color='w', linestyle='dashed', alpha=0.2)\n",
    "minval = np.amin(np.log(np.real(newlistfull)))\n",
    "maxval = np.amax(np.log(np.real(newlistfull)))\n",
    "print(np.amax(np.log(np.real(newlistfull))), maxval)\n",
    "minval=0.0425*10/np.pi\n",
    "minval=0.14\n",
    "maxval=0*10/np.pi\n",
    "t_list2 = minval + np.linspace(0., 1., num=5)*(maxval-minval)\n",
    "print(t_list2)\n",
    "cbar = fig.colorbar(c, ax=ax, ticks=t_list2, orientation=\"vertical\")\n",
    "cbar.ax.set_yticklabels(t_list2)\n",
    "cbar.ax.tick_params(labelsize=12)\n",
    "c.set_clim(minval, maxval)\n",
    "\n",
    "plt.show()\n",
    "print('kz=', kz, 'J/U=', JUratio, 'U=', U)"
   ]
  },
  {
   "cell_type": "code",
   "execution_count": 179,
   "metadata": {},
   "outputs": [],
   "source": [
    "#bz.savefig('2Dcut_fil='+str(fil)+'_z='+str(kz)+'_'+str(UoverUc)+'Uc_JUratio='+str(JUratio)+'.pdf', bbox_inches='tight', dpi=2000)"
   ]
  }
 ],
 "metadata": {
  "kernelspec": {
   "display_name": "Python 3",
   "language": "python",
   "name": "python3"
  },
  "language_info": {
   "codemirror_mode": {
    "name": "ipython",
    "version": 3
   },
   "file_extension": ".py",
   "mimetype": "text/x-python",
   "name": "python",
   "nbconvert_exporter": "python",
   "pygments_lexer": "ipython3",
   "version": "3.7.4"
  }
 },
 "nbformat": 4,
 "nbformat_minor": 2
}
