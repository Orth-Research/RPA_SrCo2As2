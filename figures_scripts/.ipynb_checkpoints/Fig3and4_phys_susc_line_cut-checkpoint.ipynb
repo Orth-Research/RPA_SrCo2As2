{
 "cells": [
  {
   "cell_type": "code",
   "execution_count": 2,
   "metadata": {},
   "outputs": [],
   "source": [
    "import numpy as np\n",
    "import scipy.linalg as la\n",
    "import matplotlib.pyplot as plt\n",
    "import time\n",
    "from matplotlib import cm\n",
    "from collections import OrderedDict"
   ]
  },
  {
   "cell_type": "code",
   "execution_count": 5,
   "metadata": {},
   "outputs": [
    {
     "name": "stdout",
     "output_type": "stream",
     "text": [
      "(51, 65536)\n"
     ]
    }
   ],
   "source": [
    "#physical line cut\n",
    "susc_phys_all = []\n",
    "q_tot = 21\n",
    "orb=16\n",
    "N=25\n",
    "kz = 0\n",
    "#fil=13.00\n",
    "fil=12.78\n",
    "\n",
    "suscall = []\n",
    "my_path = f\"C:/Users/amnedic/Documents/GitHub/RPA_SrCo2As2/results/MG+GXP+PNG_PD_13.40_to_12.00/\"\n",
    "for q in range(1):\n",
    "    suscMG = np.loadtxt(my_path+'MGnumba_N='+str(N)+'_fil='+str(fil)+'_q=20.dat', dtype=complex)\n",
    "    suscall.append(suscMG)\n",
    "for q in range(21,41):\n",
    "    suscGXP = np.loadtxt(my_path+'GXPnumba_N='+str(N)+'_fil='+str(fil)+'_q='+str(q)+'.dat', dtype=complex)\n",
    "    suscall.append(suscGXP)\n",
    "for q in range(41,60):\n",
    "    suscPNG = np.loadtxt(my_path+'PNGnumba_N='+str(N)+'_fil='+str(fil)+'_q='+str(q)+'.dat', dtype=complex)\n",
    "    suscall.append(suscPNG)\n",
    "for q in range(11):\n",
    "    suscMG = np.loadtxt(my_path+'MGnumba_N='+str(N)+'_fil='+str(fil)+'_q='+str(20-2*q)+'.dat', dtype=complex)\n",
    "    suscall.append(suscMG)\n",
    "print(np.shape(suscall))\n",
    "\n",
    "suscall = np.real(suscall)"
   ]
  },
  {
   "cell_type": "code",
   "execution_count": 8,
   "metadata": {},
   "outputs": [],
   "source": [
    "#physical susceptibility\n",
    "def inv_physical_susc(U, JUratio, qnt):\n",
    "    J = JUratio*U\n",
    "    U1 = U-2*J\n",
    "    J1 = J\n",
    "    o=5\n",
    "    inter=np.zeros((o**2,o**2), dtype=float)\n",
    "    lis = []\n",
    "    for i in range(o**2):\n",
    "        inter[i,i] = U1\n",
    "    for i in range(o):\n",
    "        param = o*i+i\n",
    "        lis.append(param)\n",
    "        inter[param,param]=U\n",
    "    for k in lis:\n",
    "        for m in lis:\n",
    "            if m !=k:\n",
    "                inter[k,m] = J\n",
    "    for k in range(o):\n",
    "        for m in range(o):\n",
    "            A = o*k+m\n",
    "            B = o*m+k\n",
    "            if m !=k:\n",
    "                inter[A,B] = J1\n",
    "    inter5=inter\n",
    "    \n",
    "    Co = np.zeros((80,80))\n",
    "    Co[0:5,0:5] = inter5[0:5,0:5]\n",
    "    Co[16:21,16:21] = inter5[5:10,5:10]\n",
    "    Co[32:37,32:37] = inter5[10:15,10:15]\n",
    "    Co[48:53,48:53] = inter5[15:20,15:20]\n",
    "    Co[64:69,64:69] = inter5[20:25,20:25]\n",
    "    Co[0:5,16:21] = inter5[0:5,5:10]\n",
    "    Co[0:5,32:37] = inter5[0:5,10:15]\n",
    "    Co[0:5,48:53] = inter5[0:5,15:20]\n",
    "    Co[0:5,64:69] = inter5[0:5,20:25]\n",
    "    Co[16:21,0:5] = inter5[5:10,0:5]\n",
    "    Co[16:21,32:37] = inter5[5:10,10:15]\n",
    "    Co[16:21,48:53] = inter5[5:10,15:20]\n",
    "    Co[16:21,64:69] = inter5[5:10,20:25]\n",
    "    Co[32:37,0:5] = inter5[10:15,0:5]\n",
    "    Co[32:37,16:21] = inter5[10:15,5:10]\n",
    "    Co[32:37,48:53] = inter5[10:15,15:20]\n",
    "    Co[32:37,64:69] = inter5[10:15,20:25]\n",
    "    Co[48:53,0:5] = inter5[15:20,0:5]\n",
    "    Co[48:53,16:21] = inter5[15:20,5:10]\n",
    "    Co[48:53,32:37] = inter5[15:20,10:15]\n",
    "    Co[48:53,64:69] = inter5[15:20,20:25]\n",
    "    Co[64:69,0:5] = inter5[20:25,0:5]\n",
    "    Co[64:69,16:21] = inter5[20:25,5:10]\n",
    "    Co[64:69,32:37] = inter5[20:25,10:15]\n",
    "    Co[64:69,48:53] = inter5[20:25,15:20]\n",
    "    \n",
    "    As = np.zeros((48,48))\n",
    "\n",
    "    INT_inter = np.zeros((269,269))\n",
    "    INT=np.zeros((256,256))\n",
    "    INT_inter[0:80,0:80] = Co\n",
    "    INT_inter[85:165,85:165] = Co\n",
    "    INT_inter[170:218,170:218] = As\n",
    "    INT_inter[221:269,221:269] = As\n",
    "    INT = INT_inter[0:256,0:256]\n",
    "\n",
    "    o=16\n",
    "    susc_resh=np.reshape(np.transpose(suscall[qnt]), (o**2,o**2))\n",
    "    inver = np.dot(np.linalg.inv(np.identity(o**2) - np.dot((susc_resh), INT)), susc_resh)\n",
    "    \n",
    "    #physical\n",
    "    lis = []\n",
    "    for i in range(o):\n",
    "        lis.append(o*i+i)\n",
    "    susc_phys_component = []\n",
    "    for i in lis:\n",
    "        for k in lis:\n",
    "            susc_phys_component.append(inver[k][i])\n",
    "    susc_phys=0.5*np.real(np.sum(susc_phys_component))\n",
    "    return 1/susc_phys"
   ]
  },
  {
   "cell_type": "code",
   "execution_count": 9,
   "metadata": {},
   "outputs": [],
   "source": [
    "def smallfunc(U, JUratio):\n",
    "    phys = []\n",
    "    for qnt in range(51):\n",
    "        susc_p = inv_physical_susc(U,JUratio,qnt)\n",
    "        phys.append(susc_p)\n",
    "    return phys"
   ]
  },
  {
   "cell_type": "code",
   "execution_count": 36,
   "metadata": {},
   "outputs": [],
   "source": [
    "# #13.00\n",
    "# phys_U05_0995 = smallfunc(1.415349752*0.995, 0.5)\n",
    "# phys_U025_0995 = smallfunc(1.745195776*0.995, 0.25)\n",
    "# phys_bare = smallfunc(0, 0.25)\n",
    "# phys_U0_0995 =  smallfunc(2.103374863*0.995, 0)\n",
    "\n",
    "#12.78\n",
    "phys_bare = smallfunc(0, 0)\n",
    "phys_U025_05 = smallfunc(2.94017731*0.7, 0.25)\n",
    "phys_U0_05 =  smallfunc(3.158537376*0.7, 0)\n",
    "phys_U025_0995 = smallfunc(2.94017731*0.995, 0.25)\n",
    "phys_U0_0995 =  smallfunc(3.158537376*0.995, 0)"
   ]
  },
  {
   "cell_type": "code",
   "execution_count": 61,
   "metadata": {},
   "outputs": [
    {
     "name": "stderr",
     "output_type": "stream",
     "text": [
      "C:\\ProgramData\\Anaconda3\\lib\\site-packages\\ipykernel_launcher.py:11: MatplotlibDeprecationWarning: Adding an axes using the same arguments as a previous axes currently reuses the earlier instance.  In a future version, a new instance will always be created and returned.  Meanwhile, this warning can be suppressed, and the future behavior ensured, by passing a unique label to each axes instance.\n",
      "  # This is added back by InteractiveShellApp.init_path()\n"
     ]
    },
    {
     "data": {
      "image/png": "[encoded data removed]",
      "text/plain": [
       "<Figure size 432x288 with 1 Axes>"
      ]
     },
     "metadata": {
      "needs_background": "light"
     },
     "output_type": "display_data"
    }
   ],
   "source": [
    "width = 1.5*3.375\n",
    "height = width/1.618\n",
    "cmap = cm.get_cmap('twilight_shifted')\n",
    "rgba_blue = cmap(0.15/0.6)\n",
    "rgba_brown = cmap(0.42/0.6)\n",
    "y_min=0\n",
    "y_max=1.0000001\n",
    "plt.ylim([-.05,1.05])\n",
    "\n",
    "fig = plt.figure(1, figsize = [width,height])\n",
    "ax = fig.add_subplot(111)\n",
    "grid_y_ticks = np.arange(y_min, y_max, 0.25)\n",
    "ax.set_yticks(grid_y_ticks, minor=False)\n",
    "plt.axvline(x=0, color='gray', linestyle=':', markersize=0.01)\n",
    "plt.axvline(x=10, color='gray', linestyle=':', markersize=0.01)\n",
    "plt.axvline(x=20, color='gray', linestyle=':', markersize=0.01)\n",
    "plt.axvline(x=30, color='gray', linestyle=':', markersize=0.01)\n",
    "plt.axvline(x=40, color='gray', linestyle=':', markersize=0.01)\n",
    "plt.axvline(x=50, color='gray', linestyle=':', markersize=0.01)\n",
    "plt.axhline(y=0, color='gray', linestyle='--', markersize=0.01)\n",
    "plt.plot(phys_U0_0995, 'o', color=rgba_blue, ls='-', markersize=4)\n",
    "plt.plot(phys_U025_0995, 'o', color=rgba_brown, ls='-', markersize=4)\n",
    "#plt.plot(phys_U0_05, 'o', color=rgba_blue, ls='-', markersize=2)\n",
    "#plt.plot(phys_U025_05, 'o', color=rgba_brown, ls='-', markersize=2)\n",
    "#plt.plot(phys_U025_0995, 'o', color=rgba_brown, ls='-', markersize=4)\n",
    "plt.plot(phys_bare, 'o', color='k', ls='-', markersize=4)\n",
    "#plt.plot(phys_U01_0995, 'o', color='purple', ls='-', markersize=4)\n",
    "#plt.plot(phys_bare, 'o', color='red', ls='-', markersize=2)\n",
    "plt.xticks(fontsize=12)\n",
    "plt.yticks(fontsize=12)\n",
    "plt.show()"
   ]
  },
  {
   "cell_type": "code",
   "execution_count": 62,
   "metadata": {},
   "outputs": [],
   "source": [
    "#fig.savefig('inv2_12.78.pdf', bbox_inches='tight', dpi=2000)"
   ]
  },
  {
   "cell_type": "code",
   "execution_count": null,
   "metadata": {},
   "outputs": [],
   "source": []
  },
  {
   "cell_type": "code",
   "execution_count": null,
   "metadata": {},
   "outputs": [],
   "source": []
  },
  {
   "cell_type": "code",
   "execution_count": null,
   "metadata": {},
   "outputs": [],
   "source": []
  }
 ],
 "metadata": {
  "kernelspec": {
   "display_name": "Python 3",
   "language": "python",
   "name": "python3"
  },
  "language_info": {
   "codemirror_mode": {
    "name": "ipython",
    "version": 3
   },
   "file_extension": ".py",
   "mimetype": "text/x-python",
   "name": "python",
   "nbconvert_exporter": "python",
   "pygments_lexer": "ipython3",
   "version": "3.7.4"
  }
 },
 "nbformat": 4,
 "nbformat_minor": 2
}
