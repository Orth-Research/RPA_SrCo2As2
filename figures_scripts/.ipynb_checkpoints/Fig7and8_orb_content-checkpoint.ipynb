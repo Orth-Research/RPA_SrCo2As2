{
 "cells": [
  {
   "cell_type": "code",
   "execution_count": 350,
   "metadata": {},
   "outputs": [],
   "source": [
    "import numpy as np\n",
    "import scipy.linalg as la\n",
    "import matplotlib.pyplot as plt\n",
    "import time\n",
    "import matplotlib.cm as cm"
   ]
  },
  {
   "cell_type": "code",
   "execution_count": 372,
   "metadata": {},
   "outputs": [],
   "source": [
    "#physical susceptibility\n",
    "def physical_susc(U, JUratio,suscall):\n",
    "    J = JUratio*U\n",
    "    U1 = U-2*J\n",
    "    J1 = J\n",
    "    o=5\n",
    "    inter=np.zeros((o**2,o**2), dtype=complex)\n",
    "    lis = []\n",
    "    for i in range(o**2):\n",
    "        inter[i,i] = U1\n",
    "    for i in range(o):\n",
    "        param = o*i+i\n",
    "        lis.append(param)\n",
    "        inter[param,param]=U\n",
    "    for k in lis:\n",
    "        for m in lis:\n",
    "            if m !=k:\n",
    "                inter[k,m] = J\n",
    "    for k in range(o):\n",
    "        for m in range(o):\n",
    "            A = o*k+m\n",
    "            B = o*m+k\n",
    "            if m !=k:\n",
    "                inter[A,B] = J1\n",
    "    inter5=inter\n",
    "    \n",
    "    Co = np.zeros((80,80),dtype=complex)\n",
    "    Co[0:5,0:5] = inter5[0:5,0:5]\n",
    "    Co[16:21,16:21] = inter5[5:10,5:10]\n",
    "    Co[32:37,32:37] = inter5[10:15,10:15]\n",
    "    Co[48:53,48:53] = inter5[15:20,15:20]\n",
    "    Co[64:69,64:69] = inter5[20:25,20:25]\n",
    "    Co[0:5,16:21] = inter5[0:5,5:10]\n",
    "    Co[0:5,32:37] = inter5[0:5,10:15]\n",
    "    Co[0:5,48:53] = inter5[0:5,15:20]\n",
    "    Co[0:5,64:69] = inter5[0:5,20:25]\n",
    "    Co[16:21,0:5] = inter5[5:10,0:5]\n",
    "    Co[16:21,32:37] = inter5[5:10,10:15]\n",
    "    Co[16:21,48:53] = inter5[5:10,15:20]\n",
    "    Co[16:21,64:69] = inter5[5:10,20:25]\n",
    "    Co[32:37,0:5] = inter5[10:15,0:5]\n",
    "    Co[32:37,16:21] = inter5[10:15,5:10]\n",
    "    Co[32:37,48:53] = inter5[10:15,15:20]\n",
    "    Co[32:37,64:69] = inter5[10:15,20:25]\n",
    "    Co[48:53,0:5] = inter5[15:20,0:5]\n",
    "    Co[48:53,16:21] = inter5[15:20,5:10]\n",
    "    Co[48:53,32:37] = inter5[15:20,10:15]\n",
    "    Co[48:53,64:69] = inter5[15:20,20:25]\n",
    "    Co[64:69,0:5] = inter5[20:25,0:5]\n",
    "    Co[64:69,16:21] = inter5[20:25,5:10]\n",
    "    Co[64:69,32:37] = inter5[20:25,10:15]\n",
    "    Co[64:69,48:53] = inter5[20:25,15:20]\n",
    "    \n",
    "    As = np.zeros((48,48),dtype=complex)\n",
    "\n",
    "    INT_inter = np.zeros((269,269),dtype=complex)\n",
    "    INT=np.zeros((256,256),dtype=complex)\n",
    "    INT_inter[0:80,0:80] = Co\n",
    "    INT_inter[85:165,85:165] = Co\n",
    "    INT_inter[170:218,170:218] = As\n",
    "    INT_inter[221:269,221:269] = As\n",
    "    INT = INT_inter[0:256,0:256]\n",
    "\n",
    "    o=16\n",
    "    print(np.shape(suscall))\n",
    "    susc_resh=np.reshape(np.transpose(suscall), (o**2,o**2))\n",
    "    inver = np.dot(np.linalg.inv(np.identity(o**2) - np.dot((susc_resh), INT)), susc_resh)\n",
    "    \n",
    "    #physical\n",
    "    lis = []\n",
    "    for i in range(o):\n",
    "        lis.append(o*i+i)\n",
    "    susc_phys_component = []\n",
    "    for i in lis:\n",
    "        for k in lis:\n",
    "            susc_phys_component.append(inver[k][i])\n",
    "    susc_phys=0.5*np.imag(susc_phys_component)\n",
    "    #susc_phys=0.5*np.real((np.sum(susc_phys_component)))\n",
    "    #print(np.max(np.imag(susc_phys_component)))\n",
    "    #print(np.max(np.real(susc_phys_component)))\n",
    "    return susc_phys"
   ]
  },
  {
   "cell_type": "code",
   "execution_count": 1,
   "metadata": {},
   "outputs": [],
   "source": [
    "my_path = f\"C:/Users/amnedic/Documents/GitHub/RPA_SrCo2As2/results/MG+GXP+PNG_PD_13.40_to_12.00/\""
   ]
  },
  {
   "cell_type": "code",
   "execution_count": 354,
   "metadata": {},
   "outputs": [
    {
     "name": "stdout",
     "output_type": "stream",
     "text": [
      "(65536,)\n"
     ]
    },
    {
     "data": {
      "image/png": "[encoded data removed]",
      "text/plain": [
       "<Figure size 364.5x364.5 with 1 Axes>"
      ]
     },
     "metadata": {
      "needs_background": "light"
     },
     "output_type": "display_data"
    }
   ],
   "source": [
    "#Gamma\n",
    "\n",
    "suscall = []\n",
    "\n",
    "fil=13.0\n",
    "JUratio=0\n",
    "suscall = np.loadtxt(my_path+'MGnumba_N=25_fil='+str(fil)+'_q=20.dat', dtype=complex)\n",
    "perc=0.995\n",
    "U=2.103374863*perc\n",
    "\n",
    "# fil=13.0\n",
    "# JUratio=0.2\n",
    "# suscall = np.loadtxt(my_path+'MGnumba_N=25_fil='+str(fil)+'_q=20.dat', dtype=complex)\n",
    "# perc=0.995\n",
    "# U=1.821219695*perc\n",
    "\n",
    "# fil=13.0\n",
    "# JUratio=0.4\n",
    "# suscall = np.loadtxt(my_path+'MGnumba_N=25_fil='+str(fil)+'_q=20.dat', dtype=complex)\n",
    "# perc=0.995\n",
    "# U=1.52994898*perc\n",
    "\n",
    "# fil=12.8\n",
    "# JUratio=0\n",
    "# suscall = np.loadtxt(my_path+'MGnumba_N=25_fil='+str(fil)+'_q=20.dat', dtype=complex)\n",
    "# perc=0.995\n",
    "# U=3.046128726*perc\n",
    "\n",
    "# fil=12.\n",
    "# JUratio=0.\n",
    "# suscall = np.loadtxt(my_path+'MGnumba_N=25_fil='+str(fil)+'_q=20.dat', dtype=complex)\n",
    "# perc=0.995\n",
    "# U=3.665226746*perc\n",
    "\n",
    "x=fil-13.\n",
    "qnt=0\n",
    "susc_p = physical_susc(U,JUratio,suscall)\n",
    "full = np.reshape(susc_p, (16,16))\n",
    "\n",
    "width = 1.5*3.375\n",
    "height = width\n",
    "x_min = 0\n",
    "x_max = 17\n",
    "y_min = 0\n",
    "y_max = 17\n",
    "deltax = 1\n",
    "deltay = 1\n",
    "\n",
    "fig = plt.figure(1, figsize = [width,height])\n",
    "ax = fig.add_subplot(111)\n",
    "plt.gca().xaxis.tick_bottom()\n",
    "plt.hlines(y=11., xmin=0, xmax=16, color='k', linestyle='dashed', alpha=1)\n",
    "plt.hlines(y=6., xmin=0, xmax=16, color='k', linestyle='dashed', alpha=1)\n",
    "plt.hlines(y=3., xmin=0, xmax=16, color='k', linestyle='dashed', alpha=1)\n",
    "plt.vlines(x=13., ymin=0, ymax=16, color='k', linestyle='dashed', alpha=1)\n",
    "plt.vlines(x=10., ymin=0, ymax=16, color='k', linestyle='dashed', alpha=1)\n",
    "plt.vlines(x=5., ymin=0, ymax=16, color='k', linestyle='dashed', alpha=1)\n",
    "\n",
    "#ticks\n",
    "grid_x_ticks = np.arange(x_min, x_max)\n",
    "grid_y_ticks = np.arange(y_min, y_max, deltay)\n",
    "ax.set_xticks(grid_x_ticks , minor=False)\n",
    "ax.set_yticks(grid_y_ticks, minor=False)\n",
    "ax.xaxis.set_ticklabels([])\n",
    "ax.yaxis.set_ticklabels([])\n",
    "\n",
    "import matplotlib.colors as mcolors\n",
    "plt.imshow(full/np.amax(full), extent=[0,16,0,16], cmap=cm.gist_earth_r, vmin=0, vmax=1)\n",
    "#cbar = plt.colorbar()\n",
    "cbar.solids.set_edgecolor(\"face\")\n",
    "gammaplot = full/np.amax(full)\n",
    "plt.show()\n",
    "#fig.savefig('G1.pdf', bbox_inches='tight', dpi=2000)\n",
    "#fig.savefig('Gamma_x_'+str(x)+'_JUratio_'+str(JUratio)+'.pdf', bbox_inches='tight', dpi=2000)"
   ]
  },
  {
   "cell_type": "code",
   "execution_count": 348,
   "metadata": {},
   "outputs": [],
   "source": [
    "#fig.savefig('Orb_content/Gamma_x='+str(np.round(fil-13,2))+'_JUratio='+str(JUratio)+'_U='+str(perc)+'Uc.pdf', bbox_inches='tight', dpi=2000)"
   ]
  },
  {
   "cell_type": "code",
   "execution_count": 329,
   "metadata": {},
   "outputs": [
    {
     "name": "stdout",
     "output_type": "stream",
     "text": [
      "(65536,)\n"
     ]
    },
    {
     "data": {
      "image/png": "[encoded data removed]",
      "text/plain": [
       "<Figure size 432x288 with 1 Axes>"
      ]
     },
     "metadata": {
      "needs_background": "light"
     },
     "output_type": "display_data"
    }
   ],
   "source": [
    "#M\n",
    "# fil=12.6\n",
    "# JUratio=0.2\n",
    "# suscall = np.loadtxt(my_path+'MGnumba_N=25_fil='+str(fil)+'_q=0.dat', dtype=complex)\n",
    "# perc = 0.995\n",
    "# U=3.587174213*perc\n",
    "\n",
    "fil=12.7\n",
    "JUratio=0.2\n",
    "suscall = np.loadtxt(my_path+'MGnumba_N=25_fil='+str(fil)+'_q=0.dat', dtype=complex)\n",
    "perc = 0.995\n",
    "U=3.438379139*perc\n",
    "\n",
    "x=fil-13.\n",
    "qnt=0\n",
    "susc_p = physical_susc(U,JUratio,suscall)\n",
    "full = np.abs(np.reshape(susc_p, (16,16)))\n",
    "full_plot = plt.figure()\n",
    "\n",
    "width = 1.5*3.375\n",
    "height = width\n",
    "x_min = 0\n",
    "x_max = 17\n",
    "y_min = 0\n",
    "y_max = 17\n",
    "deltax = 1\n",
    "deltay = 1\n",
    "\n",
    "fig = plt.figure(1, figsize = [width,height])\n",
    "ax = fig.add_subplot(111)\n",
    "plt.gca().xaxis.tick_bottom()\n",
    "plt.hlines(y=11., xmin=0, xmax=16, color='k', linestyle='dashed', alpha=1)\n",
    "plt.hlines(y=6., xmin=0, xmax=16, color='k', linestyle='dashed', alpha=1)\n",
    "plt.hlines(y=3., xmin=0, xmax=16, color='k', linestyle='dashed', alpha=1)\n",
    "plt.vlines(x=13., ymin=0, ymax=16, color='k', linestyle='dashed', alpha=1)\n",
    "plt.vlines(x=10., ymin=0, ymax=16, color='k', linestyle='dashed', alpha=1)\n",
    "plt.vlines(x=5., ymin=0, ymax=16, color='k', linestyle='dashed', alpha=1)\n",
    "\n",
    "#ticks\n",
    "grid_x_ticks = np.arange(x_min, x_max)\n",
    "grid_y_ticks = np.arange(y_min, y_max, deltay)\n",
    "ax.set_xticks(grid_x_ticks , minor=False)\n",
    "ax.set_yticks(grid_y_ticks, minor=False)\n",
    "ax.xaxis.set_ticklabels([])\n",
    "ax.yaxis.set_ticklabels([])\n",
    "\n",
    "plt.imshow(np.abs(full)/np.amax(full), extent=[0,16,0,16], cmap=cm.gist_earth_r, vmin=0, vmax=1)\n",
    "#cbar = plt.colorbar()\n",
    "cbar.solids.set_edgecolor(\"face\")\n",
    "plt.show()\n",
    "#fig.savefig('M_x_'+str(x)+'_JUratio_'+str(JUratio)+'.pdf', bbox_inches='tight', dpi=2000)\n",
    "#fig.savefig('M1.pdf', bbox_inches='tight', dpi=2000)"
   ]
  },
  {
   "cell_type": "code",
   "execution_count": 330,
   "metadata": {},
   "outputs": [],
   "source": [
    "arr=np.array(full/np.amax(full))\n",
    "np.savetxt('Orb_content/M_x='+str(np.round(fil-13,2))+'_JUratio='+str(JUratio)+'_U='+str(perc)+'Uc.csv', arr,  delimiter = \",\")\n",
    "fig.savefig('Orb_content/M_x='+str(np.round(fil-13,2))+'_JUratio='+str(JUratio)+'_U='+str(perc)+'Uc.pdf', bbox_inches='tight', dpi=2000)"
   ]
  },
  {
   "cell_type": "code",
   "execution_count": 316,
   "metadata": {},
   "outputs": [
    {
     "name": "stdout",
     "output_type": "stream",
     "text": [
      "(65536,)\n"
     ]
    },
    {
     "data": {
      "image/png": "[encoded data removed]",
      "text/plain": [
       "<Figure size 432x288 with 1 Axes>"
      ]
     },
     "metadata": {
      "needs_background": "light"
     },
     "output_type": "display_data"
    }
   ],
   "source": [
    "#X=30\n",
    "# fil=12.78\n",
    "# JUratio=0.3\n",
    "# suscall = np.loadtxt(my_path+'GXPnumba_N=25_fil='+str(fil)+'_q=30.dat', dtype=complex)\n",
    "# U=2.870465869*0.995\n",
    "\n",
    "# fil=12.78\n",
    "# JUratio=0.49\n",
    "# suscall = np.loadtxt(my_path+'GXPnumba_N=25_fil='+str(fil)+'_q=30.dat', dtype=complex)\n",
    "# U=2.339337671*0.995\n",
    "\n",
    "fil=12.8\n",
    "JUratio=0.4\n",
    "suscall = np.loadtxt(my_path+'GXPnumba_N=25_fil='+str(fil)+'_q=30.dat', dtype=complex)\n",
    "perc=0.995\n",
    "U=2.36055463*perc\n",
    "\n",
    "x=fil-13.\n",
    "qnt=0\n",
    "susc_p = physical_susc(U,JUratio,suscall)\n",
    "full = np.abs(np.reshape(susc_p, (16,16)))\n",
    "full_plot = plt.figure()\n",
    "\n",
    "width = 1.5*3.375\n",
    "height = width\n",
    "x_min = 0\n",
    "x_max = 17\n",
    "y_min = 0\n",
    "y_max = 17\n",
    "deltax = 1\n",
    "deltay = 1\n",
    "\n",
    "fig = plt.figure(1, figsize = [width,height])\n",
    "ax = fig.add_subplot(111)\n",
    "plt.gca().xaxis.tick_bottom()\n",
    "plt.hlines(y=11., xmin=0, xmax=16, color='k', linestyle='dashed', alpha=1)\n",
    "plt.hlines(y=6., xmin=0, xmax=16, color='k', linestyle='dashed', alpha=1)\n",
    "plt.hlines(y=3., xmin=0, xmax=16, color='k', linestyle='dashed', alpha=1)\n",
    "plt.vlines(x=13., ymin=0, ymax=16, color='k', linestyle='dashed', alpha=1)\n",
    "plt.vlines(x=10., ymin=0, ymax=16, color='k', linestyle='dashed', alpha=1)\n",
    "plt.vlines(x=5., ymin=0, ymax=16, color='k', linestyle='dashed', alpha=1)\n",
    "\n",
    "#ticks\n",
    "grid_x_ticks = np.arange(x_min, x_max)\n",
    "grid_y_ticks = np.arange(y_min, y_max, deltay)\n",
    "ax.set_xticks(grid_x_ticks , minor=False)\n",
    "ax.set_yticks(grid_y_ticks, minor=False)\n",
    "ax.xaxis.set_ticklabels([])\n",
    "ax.yaxis.set_ticklabels([])\n",
    "\n",
    "plt.imshow(full/np.amax(full), extent=[0,16,0,16], cmap=cm.gist_earth_r, vmin=0, vmax=1)\n",
    "#cbar = plt.colorbar()\n",
    "cbar.solids.set_edgecolor(\"face\")\n",
    "xplot = full/np.amax(full)\n",
    "\n",
    "plt.show()\n",
    "#fig.savefig('X_x_'+str(x)+'_JUratio_'+str(JUratio)+'.pdf', bbox_inches='tight', dpi=2000)\n",
    "#ig.savefig('X1.pdf', bbox_inches='tight', dpi=2000)"
   ]
  },
  {
   "cell_type": "code",
   "execution_count": 174,
   "metadata": {},
   "outputs": [],
   "source": [
    "arr=np.array(full/np.amax(full))\n",
    "#np.savetxt('Orb_content/X_x='+str(np.round(fil-13,2))+'_JUratio='+str(JUratio)+'_U='+str(perc)+'Uc.csv', arr,  delimiter = \",\")\n",
    "#fig.savefig('Orb_content/X_x='+str(np.round(fil-13,2))+'_JUratio='+str(JUratio)+'_U='+str(perc)+'Uc.pdf', bbox_inches='tight', dpi=2000)"
   ]
  },
  {
   "cell_type": "code",
   "execution_count": 331,
   "metadata": {},
   "outputs": [
    {
     "name": "stdout",
     "output_type": "stream",
     "text": [
      "(65536,)\n"
     ]
    },
    {
     "data": {
      "image/png": "[encoded data removed]",
      "text/plain": [
       "<Figure size 432x288 with 1 Axes>"
      ]
     },
     "metadata": {
      "needs_background": "light"
     },
     "output_type": "display_data"
    }
   ],
   "source": [
    "#P=40\n",
    "# fil=12.6\n",
    "# JUratio=0.49\n",
    "# suscall = np.loadtxt(my_path+'GXPnumba_N=25_fil='+str(fil)+'_q=40.dat', dtype=complex)\n",
    "# U=2.527944183*0.995\n",
    "\n",
    "# fil=12.6\n",
    "# JUratio=0.4\n",
    "# suscall = np.loadtxt(my_path+'GXPnumba_N=25_fil='+str(fil)+'_q=40.dat', dtype=complex)\n",
    "# perc=0.995\n",
    "# U=2.770749098*perc\n",
    "\n",
    "fil=12.7\n",
    "JUratio=0.4\n",
    "suscall = np.loadtxt(my_path+'GXPnumba_N=25_fil='+str(fil)+'_q=40.dat', dtype=complex)\n",
    "perc=0.995\n",
    "U=2.6442882*perc\n",
    "\n",
    "\n",
    "x=fil-13.\n",
    "qnt=0\n",
    "susc_p = physical_susc(U,JUratio,suscall)\n",
    "full = np.abs(np.reshape(susc_p, (16,16)))\n",
    "full_plot = plt.figure()\n",
    "\n",
    "width = 1.5*3.375\n",
    "height = width\n",
    "x_min = 0\n",
    "x_max = 17\n",
    "y_min = 0\n",
    "y_max = 17\n",
    "deltax = 1\n",
    "deltay = 1\n",
    "\n",
    "fig = plt.figure(1, figsize = [width,height])\n",
    "ax = fig.add_subplot(111)\n",
    "plt.gca().xaxis.tick_bottom()\n",
    "plt.hlines(y=11., xmin=0, xmax=16, color='k', linestyle='dashed', alpha=1)\n",
    "plt.hlines(y=6., xmin=0, xmax=16, color='k', linestyle='dashed', alpha=1)\n",
    "plt.hlines(y=3., xmin=0, xmax=16, color='k', linestyle='dashed', alpha=1)\n",
    "plt.vlines(x=13., ymin=0, ymax=16, color='k', linestyle='dashed', alpha=1)\n",
    "plt.vlines(x=10., ymin=0, ymax=16, color='k', linestyle='dashed', alpha=1)\n",
    "plt.vlines(x=5., ymin=0, ymax=16, color='k', linestyle='dashed', alpha=1)\n",
    "\n",
    "#ticks\n",
    "grid_x_ticks = np.arange(x_min, x_max)\n",
    "grid_y_ticks = np.arange(y_min, y_max, deltay)\n",
    "ax.set_xticks(grid_x_ticks , minor=False)\n",
    "ax.set_yticks(grid_y_ticks, minor=False)\n",
    "ax.xaxis.set_ticklabels([])\n",
    "ax.yaxis.set_ticklabels([])\n",
    "\n",
    "plt.imshow(full/np.amax(full), extent=[0,16,0,16], cmap=cm.gist_earth_r, vmin=0, vmax=1)\n",
    "#cbar = plt.colorbar()\n",
    "cbar.solids.set_edgecolor(\"face\")\n",
    "plt.show()\n",
    "#fig.savefig('P_x_'+str(x)+'_JUratio_'+str(JUratio)+'.pdf', bbox_inches='tight', dpi=2000)\n",
    "#fig.savefig('P1.pdf', bbox_inches='tight', dpi=2000)"
   ]
  },
  {
   "cell_type": "code",
   "execution_count": 332,
   "metadata": {},
   "outputs": [],
   "source": [
    "arr=np.array(full/np.amax(full))\n",
    "#np.savetxt('Orb_content/P_x='+str(np.round(fil-13,2))+'_JUratio='+str(JUratio)+'_U='+str(perc)+'Uc.csv', arr,  delimiter = \",\")\n",
    "#fig.savefig('Orb_content/P_x='+str(np.round(fil-13,2))+'_JUratio='+str(JUratio)+'_U='+str(perc)+'Uc.pdf', bbox_inches='tight', dpi=2000)"
   ]
  }
 ],
 "metadata": {
  "kernelspec": {
   "display_name": "Python 3",
   "language": "python",
   "name": "python3"
  },
  "language_info": {
   "codemirror_mode": {
    "name": "ipython",
    "version": 3
   },
   "file_extension": ".py",
   "mimetype": "text/x-python",
   "name": "python",
   "nbconvert_exporter": "python",
   "pygments_lexer": "ipython3",
   "version": "3.7.4"
  }
 },
 "nbformat": 4,
 "nbformat_minor": 2
}
